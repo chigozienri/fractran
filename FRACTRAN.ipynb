{
 "cells": [
  {
   "cell_type": "code",
   "execution_count": 1,
   "metadata": {
    "slideshow": {
     "slide_type": "skip"
    }
   },
   "outputs": [],
   "source": [
    "from fractran import f_int, FractionGame\n",
    "import numpy as np\n",
    "import matplotlib.pyplot as plt\n",
    "from IPython.display import Image\n",
    "from IPython.core.display import HTML"
   ]
  },
  {
   "cell_type": "markdown",
   "metadata": {
    "slideshow": {
     "slide_type": "slide"
    }
   },
   "source": [
    "# Roll up, roll up, and try out FRACTRAN! To whet your appetite, here's PRIMEGAME\n",
    "(WARNING: rhetorical style shamelessly cribbed from the Conway original, and then abandoned partway through)"
   ]
  },
  {
   "cell_type": "code",
   "execution_count": 2,
   "metadata": {
    "slideshow": {
     "slide_type": "fragment"
    },
    "tags": [
     "to_remove"
    ]
   },
   "outputs": [
    {
     "data": {
      "text/html": [
       "<img src='firstpage.png', width=400>"
      ],
      "text/plain": [
       "<IPython.core.display.HTML object>"
      ]
     },
     "execution_count": 2,
     "metadata": {},
     "output_type": "execute_result"
    }
   ],
   "source": [
    "HTML(\"<img src='firstpage.png', width=400>\")"
   ]
  },
  {
   "cell_type": "markdown",
   "metadata": {
    "slideshow": {
     "slide_type": "slide"
    }
   },
   "source": [
    "## INCREDIBLE! Frankly, almost literally not credible! So let's try it out:"
   ]
  },
  {
   "cell_type": "code",
   "execution_count": 3,
   "metadata": {
    "slideshow": {
     "slide_type": "fragment"
    }
   },
   "outputs": [],
   "source": [
    "primegame = FractionGame((17, 91),\n",
    "                         (78, 85),\n",
    "                         (19, 51),\n",
    "                         (23, 38),\n",
    "                         (29, 33),\n",
    "                         (77, 29),\n",
    "                         (95, 23),\n",
    "                         (77, 19),\n",
    "                         (1, 17),\n",
    "                         (11, 13),\n",
    "                         (13, 11),\n",
    "                         (15, 2),\n",
    "                         (1, 7),\n",
    "                         (55, 1), N_0=2)"
   ]
  },
  {
   "cell_type": "code",
   "execution_count": 4,
   "metadata": {},
   "outputs": [],
   "source": [
    "primegame.run(max_steps=5000)"
   ]
  },
  {
   "cell_type": "markdown",
   "metadata": {
    "slideshow": {
     "slide_type": "subslide"
    }
   },
   "source": [
    "## As we go through the first 100 steps, the value of the integers we see jumps around, and doesn't seem to have any pattern:"
   ]
  },
  {
   "cell_type": "code",
   "execution_count": 5,
   "metadata": {
    "tags": [
     "to_remove"
    ]
   },
   "outputs": [
    {
     "data": {
      "image/png": "[encoded data removed]",
      "text/plain": [
       "<Figure size 432x288 with 1 Axes>"
      ]
     },
     "metadata": {
      "needs_background": "light"
     },
     "output_type": "display_data"
    }
   ],
   "source": [
    "plt.plot(primegame.N[:100])\n",
    "plt.show()"
   ]
  },
  {
   "cell_type": "markdown",
   "metadata": {
    "slideshow": {
     "slide_type": "subslide"
    }
   },
   "source": [
    "## Zooming out to 5000 steps, it still seems hard to see how you would extract prime numbers out of any of this:"
   ]
  },
  {
   "cell_type": "code",
   "execution_count": 6,
   "metadata": {
    "tags": [
     "to_remove"
    ]
   },
   "outputs": [
    {
     "data": {
      "image/png": "[encoded data removed]",
      "text/plain": [
       "<Figure size 432x288 with 1 Axes>"
      ]
     },
     "metadata": {
      "needs_background": "light"
     },
     "output_type": "display_data"
    }
   ],
   "source": [
    "plt.plot(primegame.N)\n",
    "plt.show()"
   ]
  },
  {
   "cell_type": "markdown",
   "metadata": {
    "slideshow": {
     "slide_type": "subslide"
    }
   },
   "source": [
    "## And yet, if we take only the values that are powers of 2, in order:"
   ]
  },
  {
   "cell_type": "code",
   "execution_count": 7,
   "metadata": {
    "slideshow": {
     "slide_type": "fragment"
    }
   },
   "outputs": [
    {
     "name": "stdout",
     "output_type": "stream",
     "text": [
      "2\n",
      "3\n",
      "5\n",
      "7\n",
      "11\n",
      "13\n"
     ]
    }
   ],
   "source": [
    "for N_i in primegame.N[1:-1]:\n",
    "    logbase2 = np.log2(float(N_i))\n",
    "    if np.floor(logbase2) == logbase2:\n",
    "        print(int(logbase2))"
   ]
  },
  {
   "cell_type": "markdown",
   "metadata": {
    "slideshow": {
     "slide_type": "fragment"
    }
   },
   "source": [
    "## JUST LIKE MAGIC!"
   ]
  },
  {
   "cell_type": "markdown",
   "metadata": {
    "slideshow": {
     "slide_type": "slide"
    }
   },
   "source": [
    "## What's more, it was created by veteran mathematicomputational inventor, *John Horton Conway*!\n",
    "See what he has to say:"
   ]
  },
  {
   "cell_type": "markdown",
   "metadata": {
    "slideshow": {
     "slide_type": "subslide"
    }
   },
   "source": [
    "> ## Only FRACTRAN Has These Star Qualities.\n",
    "> - Makes workday really easy!\n",
    "    - FRACTRAN needs no complicated programming manual - its entire\n",
    "syntax can be learned in 10 seconds, and programs for quite complicated\n",
    "and interesting functions can be written almost at once.\n",
    "> - Gets those functions really clean!\n",
    "    - The entire configuration of a FRACTRAN machine at any instant is\n",
    "held as a single integer - there are no messy \"tapes\" or other foreign concepts to be understood by the fledgling programmer.\n",
    "> - Matches any machine on the market!\n",
    "    - Your old machines (Turing, etc.) can quite easily be made to simulate arbitrary FRACTRAN programs, and it is usually even easier to write a FRACTRAN program to simulate other machines.\n",
    "> - Astoundingly simple universal program!\n",
    "    - By making a FRACTRAN program that simulates an arbitrary other FRACTRAN program, we have obtained the simple universal FRACTRAN program described in Theorem 3. "
   ]
  },
  {
   "cell_type": "markdown",
   "metadata": {
    "slideshow": {
     "slide_type": "slide"
    }
   },
   "source": [
    "## So buy today!\n",
    "Oh, you want to know how it works? An informed consumer, I like that!"
   ]
  },
  {
   "cell_type": "markdown",
   "metadata": {
    "slideshow": {
     "slide_type": "fragment"
    }
   },
   "source": [
    "Let's scale back a bit, and try the simplest useful example of a FRACTRAN program: destructively add together 2 numbers.\n",
    "\n",
    "The program is just: 2/3\n",
    "\n",
    "When you start this program with 2<sup>a</sup>⋅3<sup>b</sup>, you stop with 2<sup>a+b</sup>"
   ]
  },
  {
   "cell_type": "code",
   "execution_count": 8,
   "metadata": {},
   "outputs": [],
   "source": [
    "a = 2\n",
    "b = 3\n",
    "sumgame = FractionGame((2, 3), N_0=(2**a)*(3**b))"
   ]
  },
  {
   "cell_type": "code",
   "execution_count": 9,
   "metadata": {
    "slideshow": {
     "slide_type": "skip"
    }
   },
   "outputs": [],
   "source": [
    "sumgame.run()"
   ]
  },
  {
   "cell_type": "markdown",
   "metadata": {},
   "source": [
    "Result?"
   ]
  },
  {
   "cell_type": "code",
   "execution_count": 10,
   "metadata": {
    "slideshow": {
     "slide_type": "fragment"
    }
   },
   "outputs": [
    {
     "data": {
      "text/plain": [
       "2^5"
      ]
     },
     "execution_count": 10,
     "metadata": {},
     "output_type": "execute_result"
    }
   ],
   "source": [
    "f_int(sumgame.N[-2])"
   ]
  },
  {
   "cell_type": "markdown",
   "metadata": {
    "slideshow": {
     "slide_type": "slide"
    }
   },
   "source": [
    "## What was the internal state of this program at each step in the process?"
   ]
  },
  {
   "cell_type": "code",
   "execution_count": 11,
   "metadata": {
    "slideshow": {
     "slide_type": "fragment"
    }
   },
   "outputs": [
    {
     "data": {
      "text/plain": [
       "2^2 * 3^3\n",
       "*2/3 (A)\n",
       "2^3 * 3^2\n",
       "*2/3 (A)\n",
       "2^4 * 3^1\n",
       "*2/3 (A)\n",
       "2^5"
      ]
     },
     "execution_count": 11,
     "metadata": {},
     "output_type": "execute_result"
    }
   ],
   "source": [
    "sumgame"
   ]
  },
  {
   "cell_type": "markdown",
   "metadata": {
    "slideshow": {
     "slide_type": "fragment"
    }
   },
   "source": [
    "We start with 2<sup>2</sup>⋅3<sup>3</sup>.\n",
    "\n",
    "At each step of the program, if it can, the interpreter chooses the only fraction available to it, 2/3.\n",
    "\n",
    "This transition effectively increases the number of 2s in the memory at the same time as decreasing the number of 3s. Because 2 and 3 are coprime (being prime), we can be sure that we do not confuse the two.\n",
    "\n",
    "When the number of 3s is exhausted, we cannot get an integer by multiplying with any of the fractions available, so we halt.\n",
    "\n",
    "In effect, we are treating each prime factor of the current integer as a register, and each fraction is an instruction to increase and decrease register values by a certain amount."
   ]
  },
  {
   "cell_type": "markdown",
   "metadata": {
    "slideshow": {
     "slide_type": "subslide"
    }
   },
   "source": [
    "Let's make this clear by compiling to a python program that is more obviously a register machine:"
   ]
  },
  {
   "cell_type": "markdown",
   "metadata": {
    "slideshow": {
     "slide_type": "fragment"
    }
   },
   "source": [
    "## SUMGAME, viewed as a python register machine"
   ]
  },
  {
   "cell_type": "code",
   "execution_count": 12,
   "metadata": {},
   "outputs": [
    {
     "name": "stdout",
     "output_type": "stream",
     "text": [
      "# Starting conditions\n",
      "registers = {}\n",
      "registers[2] = 2\n",
      "registers[3] = 3\n",
      "\n",
      "# Main Loop\n",
      "counter = 0\n",
      "while sum(registers.values()) > 0:\n",
      "\tcounter += 1\n",
      "\tif (registers[3] >= 1): # fraction A (2/3)\n",
      "\t\tregisters[3] -= 1\n",
      "\t\tregisters[2] += 1\n",
      "\telse:\n",
      "\t\tregisters.clear()\n",
      "\tprint(' * '.join([str(factor) + '^' + str(registers[factor]) for factor in registers.keys()]))\n",
      "\tif counter > 100:\n",
      "\t\tbreak\n"
     ]
    }
   ],
   "source": [
    "print(sumgame.python_equivalent(max_steps=100))"
   ]
  },
  {
   "cell_type": "markdown",
   "metadata": {
    "slideshow": {
     "slide_type": "subslide"
    }
   },
   "source": [
    "Let's just check that the sequence of internal states is the same as when we were directly interpreting the FRACTRAN program:"
   ]
  },
  {
   "cell_type": "code",
   "execution_count": 13,
   "metadata": {
    "slideshow": {
     "slide_type": "fragment"
    }
   },
   "outputs": [
    {
     "name": "stdout",
     "output_type": "stream",
     "text": [
      "2^3 * 3^2\n",
      "2^4 * 3^1\n",
      "2^5 * 3^0\n",
      "\n"
     ]
    }
   ],
   "source": [
    "exec(sumgame.python_equivalent(max_steps=100))"
   ]
  },
  {
   "cell_type": "markdown",
   "metadata": {
    "slideshow": {
     "slide_type": "subslide"
    }
   },
   "source": [
    "So, we see that what FRACTRAN is essentially doing is checking if given registers are zero, and then increasing and decreasing registers as a result. Recall that the instruction set for Minsky's counter machine (which is known to be Turing complete) is INC(r, x) and JZDEC(r, x, y), so if you squint a bit...\n",
    "\n",
    "Minsky Counter Machine | FRACTRAN\n",
    "-|-\n",
    "line z: INC r, GOTO line x | r*x/z\n",
    "line z: IF r is zero, GOTO line x, ELSE DEC r, GOTO line y | y/(r*z), x/z"
   ]
  },
  {
   "cell_type": "markdown",
   "metadata": {
    "slideshow": {
     "slide_type": "fragment"
    }
   },
   "source": [
    "OK, that was handwavy. Observe in particular how I have snuck in the concept of line numbers, when no such thing has been explained so far. Essentially we designate unused registers to emulate a multi-line program - for full details see original paper.\n",
    "\n",
    "However, there's a better, and more surprising way to show Turing completeness:"
   ]
  },
  {
   "cell_type": "markdown",
   "metadata": {
    "slideshow": {
     "slide_type": "slide"
    }
   },
   "source": [
    "## POLYGAME; or Cantor Diagonalisation Soup for the Gödelian Soul"
   ]
  },
  {
   "cell_type": "code",
   "execution_count": 14,
   "metadata": {},
   "outputs": [],
   "source": [
    "c = 37485\n",
    "n = 2\n",
    "polygame = FractionGame((583, 559),\n",
    "                        (629, 551),\n",
    "                        (437, 527),\n",
    "                        (82, 517),\n",
    "                        (615, 329),\n",
    "                        (371, 129),\n",
    "                        (1, 115),\n",
    "                        (53, 86),\n",
    "                        (43, 53),\n",
    "                        (23, 47),\n",
    "                        (341, 46),\n",
    "                        (41, 43),\n",
    "                        (47, 41),\n",
    "                        (29, 37),\n",
    "                        (37, 31),\n",
    "                        (37, 31),\n",
    "                        (299, 29),\n",
    "                        (47, 23),\n",
    "                        (161, 15),\n",
    "                        (527, 19),\n",
    "                        (159, 7),\n",
    "                        (1, 17),\n",
    "                        (1, 13),\n",
    "                        (1, 3),\n",
    "                        N_0=c*2**(2**n))"
   ]
  },
  {
   "cell_type": "markdown",
   "metadata": {
    "slideshow": {
     "slide_type": "subslide"
    }
   },
   "source": [
    "Just 24 fractions, and yet, if you start at c⋅2<sup>2^n</sup>, the program will stop at 2<sup>2^m</sup>. Now, if we let c iterate through all positive integers..."
   ]
  },
  {
   "cell_type": "markdown",
   "metadata": {
    "slideshow": {
     "slide_type": "fragment"
    }
   },
   "source": [
    "f<sub>c</sub>(n) = m is then a list of every computable function!"
   ]
  },
  {
   "cell_type": "markdown",
   "metadata": {
    "slideshow": {
     "slide_type": "fragment"
    }
   },
   "source": [
    "It took Gödel 25 pages to map every integer to a logical statement! (WARNING: HYPERBOLE)"
   ]
  },
  {
   "cell_type": "markdown",
   "metadata": {
    "slideshow": {
     "slide_type": "subslide"
    }
   },
   "source": [
    "Not only that, some interesting functions appear at relatively low, semantically meaningful c. Conway provides a catalogue with some examples:"
   ]
  },
  {
   "cell_type": "markdown",
   "metadata": {
    "slideshow": {
     "slide_type": "fragment"
    }
   },
   "source": [
    " c | All defined values of f_c \n",
    "---|----------------------------\n",
    " 0 | none\n",
    " 1 | n->n\n",
    "2 | 0->1\n",
    "4 | 0->2\n",
    "8 | 1->2\n",
    "16 | 2->3\n",
    "64 | 1->3\n",
    "77 | n->0\n",
    "128 | 0->3\n",
    "133 | 0->0\n",
    "255 | n+1->n+1\n",
    "256 | 3->4\n",
    "847 | n->1\n",
    "37485 | 0->0, n+1->n\n",
    "2268945 | n->n+1\n",
    "2<sup>k</sup> | a->b if 2<sup>b</sup> - 2<sup>a</sup> = k\n",
    "7 * 11<sup>2^k</sup> | n->k\n",
    "15/7 * 1029<sup>2^(k-1)</sup> | n->n+k"
   ]
  },
  {
   "cell_type": "markdown",
   "metadata": {
    "slideshow": {
     "slide_type": "subslide"
    }
   },
   "source": [
    "Of course, not every function has a low c.\n",
    "In the paper, Conway provides the (absurdly large) value of c which yields the function f(n) -> nth digit of pi:"
   ]
  },
  {
   "cell_type": "code",
   "execution_count": 15,
   "metadata": {
    "slideshow": {
     "slide_type": "fragment"
    },
    "tags": [
     "to_remove"
    ]
   },
   "outputs": [
    {
     "data": {
      "text/html": [
       "<img src='c_pi.png', width=400>"
      ],
      "text/plain": [
       "<IPython.core.display.HTML object>"
      ]
     },
     "execution_count": 15,
     "metadata": {},
     "output_type": "execute_result"
    }
   ],
   "source": [
    "HTML(\"<img src='c_pi.png', width=400>\")"
   ]
  },
  {
   "cell_type": "markdown",
   "metadata": {
    "slideshow": {
     "slide_type": "fragment"
    }
   },
   "source": [
    "This is, as Conway says, an astoundingly simple universal program! If you're curious how it actually works, see Theorem 3 of the original paper, which is very accessible!"
   ]
  },
  {
   "cell_type": "markdown",
   "metadata": {
    "slideshow": {
     "slide_type": "slide"
    }
   },
   "source": [
    "## Full circle\n",
    "OK, if we have time, let's go back to PRIMEGAME and see if we can understand it a bit (this will overflow the slide, but it doesn't really matter)"
   ]
  },
  {
   "cell_type": "code",
   "execution_count": 16,
   "metadata": {},
   "outputs": [
    {
     "name": "stdout",
     "output_type": "stream",
     "text": [
      "# Starting conditions\n",
      "registers = {}\n",
      "registers[2] = 1\n",
      "registers[3] = 0\n",
      "registers[5] = 0\n",
      "registers[7] = 0\n",
      "registers[11] = 0\n",
      "registers[13] = 0\n",
      "registers[17] = 0\n",
      "registers[19] = 0\n",
      "registers[23] = 0\n",
      "registers[29] = 0\n",
      "\n",
      "# Main Loop\n",
      "counter = 0\n",
      "while sum(registers.values()) > 0:\n",
      "\tcounter += 1\n",
      "\tif (registers[7] >= 1) & (registers[13] >= 1): # fraction A (17/91)\n",
      "\t\tregisters[7] -= 1\n",
      "\t\tregisters[13] -= 1\n",
      "\t\tregisters[17] += 1\n",
      "\telif (registers[5] >= 1) & (registers[17] >= 1): # fraction B (78/85)\n",
      "\t\tregisters[5] -= 1\n",
      "\t\tregisters[17] -= 1\n",
      "\t\tregisters[2] += 1\n",
      "\t\tregisters[3] += 1\n",
      "\t\tregisters[13] += 1\n",
      "\telif (registers[3] >= 1) & (registers[17] >= 1): # fraction C (19/51)\n",
      "\t\tregisters[3] -= 1\n",
      "\t\tregisters[17] -= 1\n",
      "\t\tregisters[19] += 1\n",
      "\telif (registers[2] >= 1) & (registers[19] >= 1): # fraction D (23/38)\n",
      "\t\tregisters[2] -= 1\n",
      "\t\tregisters[19] -= 1\n",
      "\t\tregisters[23] += 1\n",
      "\telif (registers[3] >= 1) & (registers[11] >= 1): # fraction E (29/33)\n",
      "\t\tregisters[3] -= 1\n",
      "\t\tregisters[11] -= 1\n",
      "\t\tregisters[29] += 1\n",
      "\telif (registers[29] >= 1): # fraction F (77/29)\n",
      "\t\tregisters[29] -= 1\n",
      "\t\tregisters[7] += 1\n",
      "\t\tregisters[11] += 1\n",
      "\telif (registers[23] >= 1): # fraction G (95/23)\n",
      "\t\tregisters[23] -= 1\n",
      "\t\tregisters[5] += 1\n",
      "\t\tregisters[19] += 1\n",
      "\telif (registers[19] >= 1): # fraction H (77/19)\n",
      "\t\tregisters[19] -= 1\n",
      "\t\tregisters[7] += 1\n",
      "\t\tregisters[11] += 1\n",
      "\telif (registers[17] >= 1): # fraction I (1/17)\n",
      "\t\tregisters[17] -= 1\n",
      "\telif (registers[13] >= 1): # fraction J (11/13)\n",
      "\t\tregisters[13] -= 1\n",
      "\t\tregisters[11] += 1\n",
      "\telif (registers[11] >= 1): # fraction K (13/11)\n",
      "\t\tregisters[11] -= 1\n",
      "\t\tregisters[13] += 1\n",
      "\telif (registers[2] >= 1): # fraction L (15/2)\n",
      "\t\tregisters[2] -= 1\n",
      "\t\tregisters[3] += 1\n",
      "\t\tregisters[5] += 1\n",
      "\telif (registers[7] >= 1): # fraction M (1/7)\n",
      "\t\tregisters[7] -= 1\n",
      "\telse: # fraction N (55/1)\n",
      "\t\tregisters[5] += 1\n",
      "\t\tregisters[11] += 1\n",
      "\tprint(' * '.join([str(factor) + '^' + str(registers[factor]) for factor in registers.keys()]))\n",
      "\tif counter > 100:\n",
      "\t\tbreak\n"
     ]
    }
   ],
   "source": [
    "print(primegame.python_equivalent())"
   ]
  },
  {
   "cell_type": "code",
   "execution_count": 17,
   "metadata": {
    "slideshow": {
     "slide_type": "slide"
    }
   },
   "outputs": [
    {
     "data": {
      "text/plain": [
       "2^1\n",
       "*15/2 (L)\n",
       "3^1 * 5^1\n",
       "*55/1 (N)\n",
       "3^1 * 5^2 * 11^1\n",
       "*29/33 (E)\n",
       "5^2 * 29^1\n",
       "*77/29 (F)\n",
       "5^2 * 7^1 * 11^1\n",
       "*13/11 (K)\n",
       "5^2 * 7^1 * 13^1\n",
       "*17/91 (A)\n",
       "5^2 * 17^1\n",
       "*78/85 (B)\n",
       "2^1 * 3^1 * 5^1 * 13^1\n",
       "*11/13 (J)\n",
       "2^1 * 3^1 * 5^1 * 11^1\n",
       "*29/33 (E)\n",
       "2^1 * 5^1 * 29^1\n",
       "*77/29 (F)\n",
       "2^1 * 5^1 * 7^1 * 11^1\n",
       "*13/11 (K)\n",
       "2^1 * 5^1 * 7^1 * 13^1\n",
       "*17/91 (A)\n",
       "2^1 * 5^1 * 17^1\n",
       "*78/85 (B)\n",
       "2^2 * 3^1 * 13^1\n",
       "*11/13 (J)\n",
       "2^2 * 3^1 * 11^1\n",
       "*29/33 (E)\n",
       "2^2 * 29^1\n",
       "*77/29 (F)\n",
       "2^2 * 7^1 * 11^1\n",
       "*13/11 (K)\n",
       "2^2 * 7^1 * 13^1\n",
       "*17/91 (A)\n",
       "2^2 * 17^1\n",
       "*1/17 (I)\n",
       "2^2\n",
       "*15/2 (L)\n",
       "\n",
       "*15/2 (L)"
      ]
     },
     "execution_count": 17,
     "metadata": {},
     "output_type": "execute_result"
    }
   ],
   "source": [
    "# Enough steps to run through one entire cycle\n",
    "# Start with n=1, increment to n=2, check d=1,\n",
    "# find that 2 is divisible by 1, conclude that 2 is prime,\n",
    "# (if we let it continue running, next step would be to increment to n=3)\n",
    "primegame.run(N_0=2, max_steps=20)\n",
    "primegame"
   ]
  },
  {
   "cell_type": "markdown",
   "metadata": {
    "slideshow": {
     "slide_type": "subslide"
    }
   },
   "source": [
    "## The action of PRIMEGAME"
   ]
  },
  {
   "cell_type": "markdown",
   "metadata": {
    "slideshow": {
     "slide_type": "fragment"
    }
   },
   "source": [
    "Eratosthenes? More like Eratosthe-naive!"
   ]
  },
  {
   "cell_type": "code",
   "execution_count": 18,
   "metadata": {
    "slideshow": {
     "slide_type": "fragment"
    },
    "tags": [
     "to_remove"
    ]
   },
   "outputs": [
    {
     "data": {
      "text/html": [
       "<img src='primegame.png', width=300>"
      ],
      "text/plain": [
       "<IPython.core.display.HTML object>"
      ]
     },
     "execution_count": 18,
     "metadata": {},
     "output_type": "execute_result"
    }
   ],
   "source": [
    "HTML(\"<img src='primegame.png', width=300>\")"
   ]
  },
  {
   "cell_type": "markdown",
   "metadata": {
    "slideshow": {
     "slide_type": "subslide"
    }
   },
   "source": [
    "n is the number we are checking for primeness, and d is the divisor we are checking.\n",
    "\n",
    "We have 5<sup>n</sup>⋅7<sup>d</sup>⋅13 (the first example of this in the above is step 6, (5<sup>2</sup>⋅7<sup>1</sup>⋅13))\n",
    "\n",
    "which is transformed via several successive multiplications to:\n",
    "\n",
    "2<sup>n</sup>⋅3<sup>r</sup>⋅7<sup>d-r-1</sup>⋅17\n",
    "\n",
    "Then, we have a fork."
   ]
  },
  {
   "cell_type": "markdown",
   "metadata": {
    "slideshow": {
     "slide_type": "subslide"
    }
   },
   "source": [
    "- If r > 0:\n",
    "\n",
    "    this means that the current number will be divisible by (3 * 17), so the C transition can occur. This is followed by some other multiplications, until we have:\n",
    "    \n",
    "    5<sup>n</sup>⋅7<sup>d-1</sup>⋅13\n",
    "    \n",
    "    Which is the same as the starting number, except d is decreased by 1, so we start again and check the next potential divisor."
   ]
  },
  {
   "cell_type": "markdown",
   "metadata": {
    "slideshow": {
     "slide_type": "subslide"
    }
   },
   "source": [
    "- If r = 0, meaning that a divisor for n has been found:\n",
    "\n",
    "    then the current number is not divisible by (3 * 17), so C cannot happen. However, it is divisible by 17, so I can happen, yielding:\n",
    "    \n",
    "    2<sup>n</sup>⋅7<sup>d-1</sup> (START HERE WITH n=1, d=1)\n",
    "    \n",
    "    If n is prime, then d will be 1, meaning that the 7 term is 7<sup>0</sup>=1, and the number we have in memory at this point is a power of 2. If n is not prime, the 7 term is greater than 1, so the number in memory is not a power of 2.\n",
    "    \n",
    "    Some other transitions occur, and we get:\n",
    "    \n",
    "    5<sup>n+1</sup>⋅7<sup>n</sup>⋅13 \n",
    "\n",
    "We can start again with new_n = n+1 and d = new_n-1."
   ]
  },
  {
   "cell_type": "markdown",
   "metadata": {
    "slideshow": {
     "slide_type": "slide"
    }
   },
   "source": [
    "## Further reading\n",
    "\n",
    "I've kept you here under false pretenses.\n",
    "I don't know why you've all listened to me explaining it, when you could have been listening to Conway himself: https://www.uctv.tv/shows/Fractran-A-Ridiculous-Logical-Language-with-John-Conway-23320\n",
    "\n",
    "or reading the original paper, which is delightfully whimsical:\n",
    "https://dx.doi.org/10.1007/978-1-4612-4808-8_2\n",
    "\n",
    "or reading this illustrated popsci explanation of PRIMEGAME in particular:\n",
    "https://www.jstor.org/stable/2690263\n",
    "\n",
    "Minsky on computability:\n",
    "https://www.jstor.org/stable/1970290\n",
    "\n",
    "FRACTRAN in FRACTRAN:\n",
    "https://github.com/jbeder/fractran (but where is the quine?)\n",
    "\n",
    "This repository, if you want to play with my implementation for some reason\n",
    "https://github.com/chigozienri/fractran"
   ]
  }
 ],
 "metadata": {
  "kernelspec": {
   "display_name": "Python 3.6.9 64-bit ('semipl': virtualenv)",
   "language": "python",
   "name": "python36964bitsemiplvirtualenv915cacd1ad714bf1b91137bb9f4bf54b"
  },
  "language_info": {
   "codemirror_mode": {
    "name": "ipython",
    "version": 3
   },
   "file_extension": ".py",
   "mimetype": "text/x-python",
   "name": "python",
   "nbconvert_exporter": "python",
   "pygments_lexer": "ipython3",
   "version": "3.6.9"
  }
 },
 "nbformat": 4,
 "nbformat_minor": 4
}
